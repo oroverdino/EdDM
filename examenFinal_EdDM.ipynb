{
  "nbformat": 4,
  "nbformat_minor": 0,
  "metadata": {
    "colab": {
      "name": "examenFinal_EdDM",
      "provenance": [],
      "collapsed_sections": [],
      "authorship_tag": "ABX9TyOW1mtj4f5u+t2ZBqCy+lSb",
      "include_colab_link": true
    },
    "kernelspec": {
      "name": "python3",
      "display_name": "Python 3"
    },
    "language_info": {
      "name": "python"
    }
  },
  "cells": [
    {
      "cell_type": "markdown",
      "metadata": {
        "id": "view-in-github",
        "colab_type": "text"
      },
      "source": [
        "<a href=\"https://colab.research.google.com/github/oroverdino/EdDM/blob/main/examenFinal_EdDM.ipynb\" target=\"_parent\"><img src=\"https://colab.research.google.com/assets/colab-badge.svg\" alt=\"Open In Colab\"/></a>"
      ]
    },
    {
      "cell_type": "markdown",
      "source": [
        "# Examen Final EdDM\n",
        "\n",
        "## Objetivo\n",
        "\n",
        "_El conjunto de datos asignado corresponde a salarios de trabajadores de análisis de datos, usted deberá tratar de obtener información descriptiva sobre los salarios y encontrar características de los salarios mejores pagos._"
      ],
      "metadata": {
        "id": "es0YCq83kUVq"
      }
    },
    {
      "cell_type": "code",
      "execution_count": 2,
      "metadata": {
        "id": "jhO8jhsJj9D7",
        "colab": {
          "base_uri": "https://localhost:8080/"
        },
        "outputId": "b750413a-d1a9-4001-e0aa-1dd0626f21b3"
      },
      "outputs": [
        {
          "output_type": "stream",
          "name": "stdout",
          "text": [
            "Mounted at /content/drive\n"
          ]
        }
      ],
      "source": [
        "from google.colab import drive\n",
        "drive.mount('/content/drive')"
      ]
    },
    {
      "cell_type": "code",
      "source": [
        "%load_ext rpy2.ipython"
      ],
      "metadata": {
        "id": "ugRfLWfJk2iq"
      },
      "execution_count": 3,
      "outputs": []
    },
    {
      "cell_type": "markdown",
      "source": [
        "En principio voy a cargar los paquetes necesarios para el primer analisis de la database cruda."
      ],
      "metadata": {
        "id": "wpU5MqerkNgV"
      }
    },
    {
      "cell_type": "code",
      "source": [
        "%%R\n",
        "library(data.table)"
      ],
      "metadata": {
        "colab": {
          "base_uri": "https://localhost:8080/"
        },
        "id": "w8yxCS38lUAb",
        "outputId": "84e4a4f6-cbf4-4277-f149-e48aeab492fd"
      },
      "execution_count": 4,
      "outputs": [
        {
          "output_type": "stream",
          "name": "stderr",
          "text": [
            "R[write to console]: data.table 1.14.2 using 1 threads (see ?getDTthreads).  Latest news: r-datatable.com\n",
            "\n"
          ]
        }
      ]
    },
    {
      "cell_type": "code",
      "source": [
        "%%R\n",
        "\n",
        "setwd('/content/drive/MyDrive/EdDM/examenFinal/Datasets')\n",
        "#saveRDS(DT, 'DT_rev01.rds')\n",
        "saveRDS(DT, 'DT_rev02.rds')"
      ],
      "metadata": {
        "id": "-frsSrMSg0kP"
      },
      "execution_count": 31,
      "outputs": []
    },
    {
      "cell_type": "markdown",
      "source": [
        "Desde ahora solo tengo que cargar el archivo rds para retomar el trabajo."
      ],
      "metadata": {
        "id": "dLbsZrCphueG"
      }
    },
    {
      "cell_type": "code",
      "source": [
        "%%R\n",
        "\n",
        "setwd('/content/drive/MyDrive/EdDM/examenFinal/Datasets')\n",
        "#DT <- readRDS('DT_rev01.rds')\n",
        "DT <- readRDS('DT_rev02.rds') # fin analisis univariado"
      ],
      "metadata": {
        "id": "_z_DGeVvh4H4"
      },
      "execution_count": 5,
      "outputs": []
    },
    {
      "cell_type": "code",
      "source": [
        "%%R\n",
        "DT_raw <- fread('/content/drive/MyDrive/EdDM/examenFinal/Datasets/Salarios.csv')"
      ],
      "metadata": {
        "id": "ts7vMkUdla9B"
      },
      "execution_count": null,
      "outputs": []
    },
    {
      "cell_type": "code",
      "source": [
        "%%R\n",
        "print(str(DT_raw))\n",
        "print(dim(DT_raw))"
      ],
      "metadata": {
        "colab": {
          "base_uri": "https://localhost:8080/"
        },
        "id": "jd6a194dlsez",
        "outputId": "9e02b3c9-2082-4668-8b6f-9fe68db7d316"
      },
      "execution_count": null,
      "outputs": [
        {
          "output_type": "stream",
          "name": "stdout",
          "text": [
            "Classes ‘data.table’ and 'data.frame':\t607 obs. of  12 variables:\n",
            " $ V1                : int  0 1 2 3 4 5 6 7 8 9 ...\n",
            " $ work_year         : int  2020 2020 2020 2020 2020 2020 2020 2020 2020 2020 ...\n",
            " $ experience_level  : chr  \"MI\" \"SE\" \"SE\" \"MI\" ...\n",
            " $ employment_type   : chr  \"FT\" \"FT\" \"FT\" \"FT\" ...\n",
            " $ job_title         : chr  \"Data Scientist\" \"Machine Learning Scientist\" \"Big Data Engineer\" \"Product Data Analyst\" ...\n",
            " $ salary            : int  70000 260000 85000 20000 150000 72000 190000 11000000 135000 125000 ...\n",
            " $ salary_currency   : chr  \"EUR\" \"USD\" \"GBP\" \"USD\" ...\n",
            " $ salary_in_usd     : int  79833 260000 109024 20000 150000 72000 190000 35735 135000 125000 ...\n",
            " $ employee_residence: chr  \"DE\" \"JP\" \"GB\" \"HN\" ...\n",
            " $ remote_ratio      : int  0 0 50 0 50 100 100 50 100 50 ...\n",
            " $ company_location  : chr  \"DE\" \"JP\" \"GB\" \"HN\" ...\n",
            " $ company_size      : chr  \"L\" \"S\" \"M\" \"S\" ...\n",
            " - attr(*, \".internal.selfref\")=<externalptr> \n",
            "NULL\n",
            "[1] 607  12\n"
          ]
        }
      ]
    },
    {
      "cell_type": "markdown",
      "source": [
        "Veo que la base de datos cuenta con 12 variables y 607 registros. Me fijo si tiene registros duplicados."
      ],
      "metadata": {
        "id": "baJNzbLFac5B"
      }
    },
    {
      "cell_type": "code",
      "source": [
        "%%R\n",
        "\n",
        "sum(duplicated(DT_raw))"
      ],
      "metadata": {
        "colab": {
          "base_uri": "https://localhost:8080/"
        },
        "id": "C4MXtxmJanNy",
        "outputId": "ce4120ee-340b-490d-86c1-deac710292b7"
      },
      "execution_count": null,
      "outputs": [
        {
          "output_type": "stream",
          "name": "stdout",
          "text": [
            "[1] 0\n"
          ]
        }
      ]
    },
    {
      "cell_type": "markdown",
      "source": [
        "No tiene registros duplicados. Me fijo si tiene registros con datos nulos."
      ],
      "metadata": {
        "id": "HI2BEM_SbN4q"
      }
    },
    {
      "cell_type": "code",
      "source": [
        "%%R\n",
        "\n",
        "DT_raw[, lapply(.SD, function(x) sum(is.na(x)))]"
      ],
      "metadata": {
        "colab": {
          "base_uri": "https://localhost:8080/"
        },
        "id": "f4K7SqPsUCXB",
        "outputId": "ba54c227-63f1-4ba1-cf3f-a55bec77be5e"
      },
      "execution_count": null,
      "outputs": [
        {
          "output_type": "stream",
          "name": "stdout",
          "text": [
            "   V1 work_year experience_level employment_type job_title salary\n",
            "1:  0         0                0               0         0      0\n",
            "   salary_currency salary_in_usd employee_residence remote_ratio\n",
            "1:               0             0                  0            0\n",
            "   company_location company_size\n",
            "1:                0            0\n"
          ]
        }
      ]
    },
    {
      "cell_type": "markdown",
      "source": [
        "No tiene datos nulos. A esta altura me estoy inclinando a pensar que la database esta limpia de artefactos.\n",
        "\n",
        "Voy a corregir los tipos de variables y guardar el resultado en una nueva dataframe en un archivo RDS para empezar desde ahi."
      ],
      "metadata": {
        "id": "F_dre5T5cvfo"
      }
    },
    {
      "cell_type": "code",
      "source": [
        "%%R\n",
        "\n",
        "DT <- DT_raw\n",
        "DT$work_year <- as.factor(DT$work_year)\n",
        "DT$experience_level <- as.factor(DT$experience_level)\n",
        "DT$employment_type <- as.factor(DT$employment_type)\n",
        "DT$job_title <- as.factor(DT$job_title)\n",
        "DT$salary_currency <- as.factor(DT$salary_currency)\n",
        "DT$employee_residence <- as.factor(DT$employee_residence)\n",
        "DT$remote_ratio <- as.factor(DT$remote_ratio)\n",
        "DT$company_location <- as.factor(DT$company_location)\n",
        "DT$company_size <- as.factor(DT$company_size)"
      ],
      "metadata": {
        "id": "CMtPcR-ydh3p"
      },
      "execution_count": null,
      "outputs": []
    },
    {
      "cell_type": "code",
      "source": [
        "%%R\n",
        "\n",
        "print(str(DT))\n",
        "print(dim(DT))"
      ],
      "metadata": {
        "colab": {
          "base_uri": "https://localhost:8080/"
        },
        "id": "nSwf5nAMgDQi",
        "outputId": "56162779-a417-4f8f-d943-81d30e8ec64d"
      },
      "execution_count": null,
      "outputs": [
        {
          "output_type": "stream",
          "name": "stdout",
          "text": [
            "Classes ‘data.table’ and 'data.frame':\t607 obs. of  12 variables:\n",
            " $ V1                : int  0 1 2 3 4 5 6 7 8 9 ...\n",
            " $ work_year         : Factor w/ 3 levels \"2020\",\"2021\",..: 1 1 1 1 1 1 1 1 1 1 ...\n",
            " $ experience_level  : Factor w/ 4 levels \"EN\",\"EX\",\"MI\",..: 3 4 4 3 4 1 4 3 3 4 ...\n",
            " $ employment_type   : Factor w/ 4 levels \"CT\",\"FL\",\"FT\",..: 3 3 3 3 3 3 3 3 3 3 ...\n",
            " $ job_title         : Factor w/ 50 levels \"3D Computer Vision Researcher\",..: 23 41 8 48 38 13 35 23 9 34 ...\n",
            " $ salary            : int  70000 260000 85000 20000 150000 72000 190000 11000000 135000 125000 ...\n",
            " $ salary_currency   : Factor w/ 17 levels \"AUD\",\"BRL\",\"CAD\",..: 8 17 9 17 17 17 17 10 17 17 ...\n",
            " $ salary_in_usd     : int  79833 260000 109024 20000 150000 72000 190000 35735 135000 125000 ...\n",
            " $ employee_residence: Factor w/ 57 levels \"AE\",\"AR\",\"AT\",..: 15 33 21 24 56 56 56 26 56 42 ...\n",
            " $ remote_ratio      : Factor w/ 3 levels \"0\",\"50\",\"100\": 1 1 2 1 2 3 3 2 3 2 ...\n",
            " $ company_location  : Factor w/ 50 levels \"AE\",\"AS\",\"AT\",..: 13 30 19 21 49 49 49 23 49 39 ...\n",
            " $ company_size      : Factor w/ 3 levels \"L\",\"M\",\"S\": 1 3 2 3 1 1 3 1 1 3 ...\n",
            " - attr(*, \".internal.selfref\")=<externalptr> \n",
            "NULL\n",
            "[1] 607  12\n"
          ]
        }
      ]
    },
    {
      "cell_type": "markdown",
      "source": [
        "En ppio descarto la primer variable _V1_ que es la ID de cada registro."
      ],
      "metadata": {
        "id": "HaFKHx4hB1Zs"
      }
    },
    {
      "cell_type": "code",
      "source": [
        "%%R\n",
        "\n",
        "DT[, c('V1') := NULL]"
      ],
      "metadata": {
        "id": "rwurY0fZB0ZF"
      },
      "execution_count": null,
      "outputs": []
    },
    {
      "cell_type": "code",
      "source": [
        "%%R\n",
        "\n",
        "str(DT)"
      ],
      "metadata": {
        "id": "lsoPBo2IUaDA"
      },
      "execution_count": null,
      "outputs": []
    },
    {
      "cell_type": "markdown",
      "source": [
        "Todavía no sé cuáles variables van a ser importantes para los objetivos. Por lo tanto analizo cada una."
      ],
      "metadata": {
        "id": "ZDjhHeteVJi4"
      }
    },
    {
      "cell_type": "code",
      "source": [
        "%%R\n",
        "\n",
        "ftable(DT$work_year)"
      ],
      "metadata": {
        "colab": {
          "base_uri": "https://localhost:8080/"
        },
        "id": "BcHagthWXF09",
        "outputId": "e2190576-7338-40be-bd8a-5fa51af5d943"
      },
      "execution_count": 6,
      "outputs": [
        {
          "output_type": "stream",
          "name": "stdout",
          "text": [
            " 2020 2021 2022\n",
            "               \n",
            "   72  217  318\n"
          ]
        }
      ]
    },
    {
      "cell_type": "markdown",
      "source": [
        "La variable _work_year_ tiene el año 2022 con más del 50% de todos los años recolectados. Los otros valores posibles son 2020 (con 12%) y 2021 (con 35%).\n",
        "\n",
        "Debido a la cuarentena a nivel mundial durante 2020 y parte de 2021 considero razonable reclasificar los niveles de ésta variable. Quedando 2022ec y ad2022 (2022 en curso y antes de 2022 respectivamente)."
      ],
      "metadata": {
        "id": "labpl8tyoz6s"
      }
    },
    {
      "cell_type": "code",
      "source": [
        "%%R\n",
        "\n",
        "DT[, setattr(work_year, 'levels', c('ad2022','ad2022','2022ec'))]"
      ],
      "metadata": {
        "id": "tKS35VEIZs8m"
      },
      "execution_count": null,
      "outputs": []
    },
    {
      "cell_type": "code",
      "source": [
        "%%R\n",
        "\n",
        "ftable(DT$experience_level)"
      ],
      "metadata": {
        "colab": {
          "base_uri": "https://localhost:8080/"
        },
        "id": "elhsDr4RawFr",
        "outputId": "c2c7d93b-e3e1-4463-ce92-c69eb8e9b30c"
      },
      "execution_count": null,
      "outputs": [
        {
          "output_type": "stream",
          "name": "stdout",
          "text": [
            "  EN  EX  MI  SE\n",
            "                \n",
            "  88  26 213 280\n"
          ]
        }
      ]
    },
    {
      "cell_type": "markdown",
      "source": [
        "La variable _experience_level_ tiene 4 niveles:\n",
        "\n",
        "1.   EN: entry-level / junior\n",
        "2.   MI: mid-level / intermediate\n",
        "3.   SE: senior-level / expert\n",
        "4.   EX: executive-level / director\n",
        "\n",
        "Consulté varias fuentes sobre si era conveniente reclasificar los factores en sólo dos: EN y MI -> junior, SE y EX -> senior. Resulta que éstos cuatro \n",
        "niveles son los que la industria considera a la hora de decidir los sueldos. Por lo tanto no considero conveniente la reclasificación.\n"
      ],
      "metadata": {
        "id": "x7IhIJbHblwK"
      }
    },
    {
      "cell_type": "code",
      "source": [
        "%%R\n",
        "\n",
        "porcentaje <- round(table(DT$experience_level) / sum(table(DT$experience_level)) * 100)\n",
        "etiqueta <- paste(c('junior', 'director', 'intermediate', 'senior'), porcentaje, '%')\n",
        "pie(ftable(DT$experience_level),\n",
        "    labels = etiqueta,\n",
        "    col = rainbow(length(etiqueta)),\n",
        "    main = \"Nivel de experiencia de trabajadores en ciencia de datos\\n entre 2020 y 2021\"\n",
        ")"
      ],
      "metadata": {
        "colab": {
          "base_uri": "https://localhost:8080/",
          "height": 497
        },
        "outputId": "e952a4a7-0dea-4c52-9ac2-140d51302edd",
        "id": "yUGxVssf2KMP"
      },
      "execution_count": 80,
      "outputs": [
        {
          "output_type": "display_data",
          "data": {
            "image/png": "[encoded data removed]"
          },
          "metadata": {}
        }
      ]
    },
    {
      "cell_type": "code",
      "source": [
        "%%R\n",
        "\n",
        "ftable(DT$employment_type)"
      ],
      "metadata": {
        "colab": {
          "base_uri": "https://localhost:8080/"
        },
        "id": "CN4QEsp1y_YR",
        "outputId": "8b608179-f659-44d9-accb-2c7bece2077b"
      },
      "execution_count": null,
      "outputs": [
        {
          "output_type": "stream",
          "name": "stdout",
          "text": [
            "  CT  FL  FT  PT\n",
            "                \n",
            "   5   4 588  10\n"
          ]
        }
      ]
    },
    {
      "cell_type": "markdown",
      "source": [
        "La variable _employment_type_ tiene 4 niveles:\n",
        "\n",
        "1. CT: contract\n",
        "2. FL: freelance\n",
        "3. FT: full-time\n",
        "4. PT: part-time\n",
        "\n",
        "Casi el 97% de los tipos de empleo son de tiempo completo."
      ],
      "metadata": {
        "id": "bu4O0EHRzMfP"
      }
    },
    {
      "cell_type": "code",
      "source": [
        "%%R\n",
        "\n",
        "etiqueta <- levels(DT$employment_type)\n",
        "barplot(table(DT$employment_type),\n",
        "        #labels = etiqueta,\n",
        "        horiz = TRUE,\n",
        ")"
      ],
      "metadata": {
        "id": "Xp0VGNJC4X6_"
      },
      "execution_count": null,
      "outputs": []
    },
    {
      "cell_type": "code",
      "source": [
        "%%R\n",
        "\n",
        "top10 <- as.data.table(ftable(DT$job_title))\n",
        "JT <- top10[rev(order(top10$Freq))] "
      ],
      "metadata": {
        "id": "2AV5nwWaD95H"
      },
      "execution_count": 110,
      "outputs": []
    },
    {
      "cell_type": "code",
      "source": [
        "%%R\n",
        "\n",
        "head(JT, 25)"
      ],
      "metadata": {
        "colab": {
          "base_uri": "https://localhost:8080/"
        },
        "id": "9wnMGrnxG7-F",
        "outputId": "f848e53d-518c-465d-c1dc-2c1b69e6328d"
      },
      "execution_count": 113,
      "outputs": [
        {
          "output_type": "stream",
          "name": "stdout",
          "text": [
            "                                  Var1 Freq\n",
            " 1:                     Data Scientist  143\n",
            " 2:                      Data Engineer  132\n",
            " 3:                       Data Analyst   97\n",
            " 4:          Machine Learning Engineer   41\n",
            " 5:                 Research Scientist   16\n",
            " 6:               Data Science Manager   12\n",
            " 7:                     Data Architect   11\n",
            " 8:         Machine Learning Scientist    8\n",
            " 9:                  Big Data Engineer    8\n",
            "10:           Principal Data Scientist    7\n",
            "11:           Director of Data Science    7\n",
            "12:            Data Science Consultant    7\n",
            "13:             Data Analytics Manager    7\n",
            "14:                       AI Scientist    7\n",
            "15:                        ML Engineer    6\n",
            "16:                 Lead Data Engineer    6\n",
            "17:           Computer Vision Engineer    6\n",
            "18:                    BI Data Analyst    6\n",
            "19:                       Head of Data    5\n",
            "20:           Data Engineering Manager    5\n",
            "21:              Business Data Analyst    5\n",
            "22:             Applied Data Scientist    5\n",
            "23:               Head of Data Science    4\n",
            "24:            Data Analytics Engineer    4\n",
            "25: Applied Machine Learning Scientist    4\n",
            "                                  Var1 Freq\n"
          ]
        }
      ]
    },
    {
      "cell_type": "markdown",
      "source": [
        "La variable _job_title_ tiene 50 niveles. El valor más frecuente aparece en menos del 25% de los registros.\n",
        "\n",
        "Pensé que una _nube de palabras_ podría echar claridad sobre el análisis. Sólo incluí las palabras que se repetían al menos el 10% del total."
      ],
      "metadata": {
        "id": "USGz-5rm-Hyr"
      }
    },
    {
      "cell_type": "code",
      "source": [
        "%%R\n",
        "\n",
        "# para separar las palabras el tipo debe ser character\n",
        "DT$job_title <- as.character(DT$job_title)\n",
        "\n",
        "DT_titulos <- DT[, .(palabra = unlist(strsplit(job_title, ' '), use.names = FALSE))][, .N, by = palabra]"
      ],
      "metadata": {
        "id": "wXvEnf2B2u4g"
      },
      "execution_count": 64,
      "outputs": []
    },
    {
      "cell_type": "code",
      "source": [
        "%%R\n",
        "\n",
        "#install.packages('wordcloud')\n",
        "library(wordcloud)"
      ],
      "metadata": {
        "id": "x9AwQKpS7y9x"
      },
      "execution_count": null,
      "outputs": []
    },
    {
      "cell_type": "code",
      "source": [
        "%%R\n",
        "\n",
        "wordcloud(DT_titulos$palabra, freq = DT_titulos$N, min.freq = 60)"
      ],
      "metadata": {
        "colab": {
          "base_uri": "https://localhost:8080/",
          "height": 497
        },
        "id": "-PxMOVvB8p-P",
        "outputId": "b09043e0-8370-4c09-c52f-d03baaf3bca4"
      },
      "execution_count": 65,
      "outputs": [
        {
          "output_type": "display_data",
          "data": {
            "image/png": "[encoded data removed]"
          },
          "metadata": {}
        }
      ]
    },
    {
      "cell_type": "code",
      "source": [
        "%%R\n",
        "\n",
        "DT$job_title <- as.factor(DT$job_title)\n",
        "titulos <- levels(DT$job_title)\n",
        "cantidad <- ftable(DT$job_title)[1,]"
      ],
      "metadata": {
        "id": "eAZxPeCxxR65"
      },
      "execution_count": 88,
      "outputs": []
    },
    {
      "cell_type": "code",
      "source": [
        "%%R\n",
        "\n",
        "par(bg = 'black')\n",
        "wordcloud(titulos, cantidad, min.freq = 6,\n",
        "          col = rainbow(length(titulos)),\n",
        "          #scale = c(21,1)\n",
        ")"
      ],
      "metadata": {
        "colab": {
          "base_uri": "https://localhost:8080/",
          "height": 497
        },
        "id": "MFtHyzKFzaay",
        "outputId": "9f4e8570-d431-4fc0-babc-9e46e090ed19"
      },
      "execution_count": 103,
      "outputs": [
        {
          "output_type": "display_data",
          "data": {
            "image/png": "[encoded data removed]"
          },
          "metadata": {}
        }
      ]
    },
    {
      "cell_type": "code",
      "source": [
        "%%R\n",
        "\n",
        "summary(DT$salary)"
      ],
      "metadata": {
        "colab": {
          "base_uri": "https://localhost:8080/"
        },
        "id": "EVWKCfPhKQYA",
        "outputId": "e5160ae8-959e-41e8-a19b-a59c212bd341"
      },
      "execution_count": null,
      "outputs": [
        {
          "output_type": "stream",
          "name": "stdout",
          "text": [
            "    Min.  1st Qu.   Median     Mean  3rd Qu.     Max. \n",
            "    4000    70000   115000   324000   165000 30400000 \n"
          ]
        }
      ]
    },
    {
      "cell_type": "markdown",
      "source": [
        "La variable _salary_ en principio parece la de mayor interés para los objetivos. Es una variable numérica que sólo tiene sentido si va acompañada de la variable _salary_currency_.\n",
        "\n",
        "Dado que los objetivos del presente trabajo son:\n",
        "\n",
        "*   información descriptiva de los salarios\n",
        "*   características de los mejores pagos\n",
        "\n",
        "Necesito convertir la moneda de cada país con una moneda de referencia. Para mi conveniencia la variable _salary_in_usd_ tiene esa información.\n",
        "\n",
        "Por lo tanto las variables _salary_ y _salary_currency_ no van a ser partes de mi análisis. La variable _employee_residence_ hace innecesaria la variable _salary_currency_.\n",
        "\n",
        "Al menos en ésta primera inspección.\n",
        "\n"
      ],
      "metadata": {
        "id": "5H11QiVGLJIk"
      }
    },
    {
      "cell_type": "code",
      "source": [
        "%%R\n",
        "\n",
        "IQR(DT$salary_in_usd)"
      ],
      "metadata": {
        "colab": {
          "base_uri": "https://localhost:8080/"
        },
        "id": "QlF2OsQ8zMMl",
        "outputId": "3984c179-1594-465f-b27a-677d0d06dc97"
      },
      "execution_count": 115,
      "outputs": [
        {
          "output_type": "stream",
          "name": "stdout",
          "text": [
            "[1] 87274\n"
          ]
        }
      ]
    },
    {
      "cell_type": "markdown",
      "source": [
        "El rango intercuartil me indica cuál es la diferencia entre el que más gana y el que menos ganas dentro del 50% de los trabajadores."
      ],
      "metadata": {
        "id": "SqA93_oasamW"
      }
    },
    {
      "cell_type": "code",
      "source": [
        "%%R\n",
        "\n",
        "#setwd('/content/drive/MyDrive/EdDM/examenFinal/Datasets') \n",
        "#png(file='hist.png', width = 600, height = 350)\n",
        "\n",
        "layout(matrix(c(1, 1, 1, 2), nrow = 4, ncol = 1, byrow = TRUE))\n",
        " \n",
        "par(mar = c(0,2,3,2))\n",
        "hist(DT$salary_in_usd,\n",
        "     breaks = 'FD',\n",
        "     main = 'Salario en U$D de trabajadores en ciencia de datos\\n entre 2020 y 2022',\n",
        "     freq = FALSE,\n",
        "     col = 'lightgreen',\n",
        "     xlab = '',\n",
        "     ylab = ''\n",
        ")\n",
        "\n",
        "curve(dnorm(x, mean = mean(DT$salary_in_usd), sd = sd(DT$salary_in_usd)),\n",
        "      add = TRUE,\n",
        "      col = 'red',\n",
        "      lwd = 2\n",
        ")\n",
        "\n",
        "legend('topright',\n",
        "       legend = c('histograma','curva normal', 'boxplot'),\n",
        "       col = c('lightgreen','red', 'darkgreen'),\n",
        "       pt.cex = 2,\n",
        "       pch = 15\n",
        ")\n",
        "\n",
        "par(mar = c(0,2,0,2))\n",
        "boxplot(DT$salary_in_usd,\n",
        "        horizontal = TRUE,\n",
        "        col = 'darkgreen',\n",
        "        frame = F\n",
        ")\n",
        "\n",
        "#dev.off()"
      ],
      "metadata": {
        "colab": {
          "base_uri": "https://localhost:8080/",
          "height": 497
        },
        "id": "7YO9BYn_5ozW",
        "outputId": "4024d7e2-bce0-4897-e191-0871c7c27c97"
      },
      "execution_count": 148,
      "outputs": [
        {
          "output_type": "display_data",
          "data": {
            "image/png": "[encoded data removed]"
          },
          "metadata": {}
        }
      ]
    },
    {
      "cell_type": "markdown",
      "source": [
        "Los outliers deberán analizarse en función de otras variables, por ejemplo _experience_level_. Es por eso que no los elimino directamente del dataset. Con sólo 10 outliers son menos del 10% del total de registros.\n",
        "\n",
        "Otra razón para no eliminarlos es que son outliers de máximos valores. Son parte de los objetivos."
      ],
      "metadata": {
        "id": "EeS4nKVNkGP7"
      }
    },
    {
      "cell_type": "code",
      "source": [
        "%%R\n",
        "\n",
        "print(ftable(boxplot.stats(DT$salary_in_usd)$out))\n",
        "print(sum(table(boxplot.stats(DT$salary_in_usd)$out)))"
      ],
      "metadata": {
        "colab": {
          "base_uri": "https://localhost:8080/"
        },
        "id": "LJqvQPNNg8n-",
        "outputId": "94bb4840-19be-48de-b1b4-a2ac882d00d7"
      },
      "execution_count": 12,
      "outputs": [
        {
          "output_type": "stream",
          "name": "stdout",
          "text": [
            " 324000 325000 380000 405000 412000 416000 423000 450000 600000\n",
            "                                                               \n",
            "      1      1      1      1      1      1      1      2      1\n",
            "[1] 10\n"
          ]
        }
      ]
    },
    {
      "cell_type": "markdown",
      "source": [
        "Me fijé en los registros donde se dan los outliers. Todos viven en US, no hay un título que se repita, el 90% trabajó full-time (probablemente el único contratado también), no hay ningún junior y la mayoría trabajó casi en su totalidad de manera remota."
      ],
      "metadata": {
        "id": "agFz7dXK6Ip-"
      }
    },
    {
      "cell_type": "code",
      "source": [
        "%%R\n",
        "\n",
        "DT[DT$salary_in_usd >= 324e+03, ]"
      ],
      "metadata": {
        "colab": {
          "base_uri": "https://localhost:8080/"
        },
        "id": "QNqmJDPVo3sk",
        "outputId": "20d9c1ca-4eea-422e-8912-a1cddb7e8d41"
      },
      "execution_count": 49,
      "outputs": [
        {
          "output_type": "stream",
          "name": "stdout",
          "text": [
            "    work_year experience_level employment_type\n",
            " 1:    ad2022               EX              FT\n",
            " 2:    ad2022               MI              FT\n",
            " 3:    ad2022               SE              FT\n",
            " 4:    ad2022               MI              FT\n",
            " 5:    ad2022               MI              FT\n",
            " 6:    ad2022               EX              CT\n",
            " 7:    ad2022               EX              FT\n",
            " 8:    2022ec               EX              FT\n",
            " 9:    2022ec               SE              FT\n",
            "10:    2022ec               SE              FT\n",
            "                             job_title salary salary_currency salary_in_usd\n",
            " 1:           Director of Data Science 325000             USD        325000\n",
            " 2:                 Research Scientist 450000             USD        450000\n",
            " 3:                     Data Scientist 412000             USD        412000\n",
            " 4:             Financial Data Analyst 450000             USD        450000\n",
            " 5: Applied Machine Learning Scientist 423000             USD        423000\n",
            " 6:           Principal Data Scientist 416000             USD        416000\n",
            " 7:            Principal Data Engineer 600000             USD        600000\n",
            " 8:                      Data Engineer 324000             USD        324000\n",
            " 9:             Applied Data Scientist 380000             USD        380000\n",
            "10:                Data Analytics Lead 405000             USD        405000\n",
            "    employee_residence remote_ratio company_location company_size\n",
            " 1:                 US          100               US            L\n",
            " 2:                 US            0               US            M\n",
            " 3:                 US          100               US            L\n",
            " 4:                 US          100               US            L\n",
            " 5:                 US           50               US            L\n",
            " 6:                 US          100               US            S\n",
            " 7:                 US          100               US            L\n",
            " 8:                 US          100               US            M\n",
            " 9:                 US          100               US            L\n",
            "10:                 US          100               US            L\n"
          ]
        }
      ]
    },
    {
      "cell_type": "code",
      "source": [
        "%%R\n",
        "\n",
        "install.packages('moments', quiet = TRUE)\n",
        "library(moments)"
      ],
      "metadata": {
        "id": "cYI9QSbY_BjK"
      },
      "execution_count": 5,
      "outputs": []
    },
    {
      "cell_type": "code",
      "source": [
        "%%R\n",
        "\n",
        "moda <- function(x) unique(x)[which.max(table(x))]"
      ],
      "metadata": {
        "id": "5bya7ud2i6u3"
      },
      "execution_count": 23,
      "outputs": []
    },
    {
      "cell_type": "code",
      "source": [
        "%%R\n",
        "\n",
        "print(skewness(DT$salary_in_usd))\n",
        "print(kurtosis(DT$salary_in_usd)) "
      ],
      "metadata": {
        "colab": {
          "base_uri": "https://localhost:8080/"
        },
        "id": "mfHodPzP_Sss",
        "outputId": "ee38e037-c2e0-4212-9704-c02b35ea8597"
      },
      "execution_count": 8,
      "outputs": [
        {
          "output_type": "stream",
          "name": "stdout",
          "text": [
            "[1] 1.663421\n",
            "[1] 9.291709\n"
          ]
        }
      ]
    },
    {
      "cell_type": "code",
      "source": [
        "%%R\n",
        "\n",
        "print(mean(DT$salary_in_usd))\n",
        "print(median(DT$salary_in_usd))\n",
        "print(moda(DT$salary_in_usd))"
      ],
      "metadata": {
        "colab": {
          "base_uri": "https://localhost:8080/"
        },
        "outputId": "6e15543b-178e-4bfc-b1b6-9511be80314a",
        "id": "quSVCHXC6WX7"
      },
      "execution_count": 27,
      "outputs": [
        {
          "output_type": "stream",
          "name": "stdout",
          "text": [
            "[1] 112297.9\n",
            "[1] 101570\n",
            "[1] 18907\n"
          ]
        }
      ]
    },
    {
      "cell_type": "markdown",
      "source": [
        "La curtosis de la distribución de la variable _salary_in_usd_ es mayor a 3, por lo que se trata de una curva leptocúrtica. Esto me indica que la población es homogenea a pesar de los outliers.\n",
        "\n",
        "La variable _salary_in_usd_ tiene el promedio ligeramente mayor que la media, y la media es a su vez mayor que la moda. La distribución es asimétrica a la derecha, o positiva."
      ],
      "metadata": {
        "id": "UfoFabWl_dE5"
      }
    },
    {
      "cell_type": "code",
      "source": [
        "%%R\n",
        "\n",
        "length(ftable(DT$employee_residence))"
      ],
      "metadata": {
        "colab": {
          "base_uri": "https://localhost:8080/"
        },
        "id": "zBVK68mLMq7B",
        "outputId": "f9f4ed1f-be59-4ca1-be98-a28a69e56905"
      },
      "execution_count": 22,
      "outputs": [
        {
          "output_type": "stream",
          "name": "stdout",
          "text": [
            "[1] 57\n"
          ]
        }
      ]
    },
    {
      "cell_type": "markdown",
      "source": [
        "La variable categórica _employee_residence_ tiene 57 niveles. Utilicé el mismo criterio usado con la variable _job_title_: sólo listar los valores con más de 6 ocurrencias. Resultó que más del 50% de los empleados vive es US."
      ],
      "metadata": {
        "id": "vpxYCDo7neZ8"
      }
    },
    {
      "cell_type": "code",
      "source": [
        "%%R\n",
        "\n",
        "palabras <- levels(DT$employee_residence)\n",
        "cantidad <- ftable(DT$employee_residence)[1,]"
      ],
      "metadata": {
        "id": "Lc2C6btZkUH_"
      },
      "execution_count": 107,
      "outputs": []
    },
    {
      "cell_type": "code",
      "source": [
        "%%R\n",
        "\n",
        "par(bg='black')\n",
        "wordcloud(palabras, freq = cantidad, min.freq = 6,\n",
        "          col = rainbow(length(palabras))\n",
        ")"
      ],
      "metadata": {
        "colab": {
          "base_uri": "https://localhost:8080/",
          "height": 497
        },
        "id": "kw6gfl2xiiiO",
        "outputId": "391bdc1b-6d72-4ada-f4da-dadf0a2e7af0"
      },
      "execution_count": 109,
      "outputs": [
        {
          "output_type": "display_data",
          "data": {
            "image/png": "[encoded data removed]"
          },
          "metadata": {}
        }
      ]
    },
    {
      "cell_type": "code",
      "source": [
        "%%R\n",
        "\n",
        "ftable(DT$remote_ratio)"
      ],
      "metadata": {
        "colab": {
          "base_uri": "https://localhost:8080/"
        },
        "id": "WjDzr_oiNK2d",
        "outputId": "1d6868dc-9e99-4d4d-f31e-a1efaeb9b1dd"
      },
      "execution_count": 23,
      "outputs": [
        {
          "output_type": "stream",
          "name": "stdout",
          "text": [
            "   0  50 100\n",
            "            \n",
            " 127  99 381\n"
          ]
        }
      ]
    },
    {
      "cell_type": "markdown",
      "source": [
        "La variable _remote_ratio_ indica la proporción del trabajo que fue realizado en remoto. Donde los niveles indican:\n",
        "\n",
        "* 0 : sin trabajo remoto o menos del 20%\n",
        "* 50 : parcialmente remoto\n",
        "* 100 : completamente remoto o más del 80%"
      ],
      "metadata": {
        "id": "G4uaET30NeQY"
      }
    },
    {
      "cell_type": "code",
      "source": [
        "%%R\n",
        "\n",
        "porcentaje <- round(table(DT$remote_ratio) / sum(table(DT$remote_ratio)) * 100)\n",
        "etiqueta <- paste(c('practicamente nulo', 'parcial', 'practicamente todo'), porcentaje, '%')\n",
        "pie(ftable(DT$remote_ratio),\n",
        "    labels = etiqueta,\n",
        "    col = rainbow(length(etiqueta)),\n",
        "    main = 'Trabajo remoto de trabajadores en ciencia de datos\\n\n",
        "    entre 2020 y 2021'\n",
        ")"
      ],
      "metadata": {
        "colab": {
          "base_uri": "https://localhost:8080/",
          "height": 497
        },
        "id": "zYHCANM5PsaJ",
        "outputId": "7d3f5893-becb-4dec-dc4c-fb63578dface"
      },
      "execution_count": 17,
      "outputs": [
        {
          "output_type": "display_data",
          "data": {
            "image/png": "[encoded data removed]"
          },
          "metadata": {}
        }
      ]
    },
    {
      "cell_type": "code",
      "source": [
        "%%R\n",
        "\n",
        "palabras <- levels(DT$company_location)\n",
        "cantidad <- ftable(DT$company_location)[1,]"
      ],
      "metadata": {
        "id": "J4RC2S_3du-S"
      },
      "execution_count": 110,
      "outputs": []
    },
    {
      "cell_type": "code",
      "source": [
        "%%R\n",
        "\n",
        "par(bg = 'black')\n",
        "wordcloud(palabras, freq = cantidad, min.freq = 1,\n",
        "          col = rainbow(length(palabras))\n",
        ")"
      ],
      "metadata": {
        "colab": {
          "base_uri": "https://localhost:8080/",
          "height": 497
        },
        "outputId": "69d0b3db-b7e9-4da7-87ee-6c2624b55ee2",
        "id": "JLqhf539d0-a"
      },
      "execution_count": 113,
      "outputs": [
        {
          "output_type": "display_data",
          "data": {
            "image/png": "[encoded data removed]"
          },
          "metadata": {}
        }
      ]
    },
    {
      "cell_type": "code",
      "source": [
        "%%R\n",
        "\n",
        "ftable(DT$company_size)"
      ],
      "metadata": {
        "colab": {
          "base_uri": "https://localhost:8080/"
        },
        "id": "S_O3bzGEeRXO",
        "outputId": "a69c1330-31d9-4d31-b59d-a2c3780f5216"
      },
      "execution_count": 33,
      "outputs": [
        {
          "output_type": "stream",
          "name": "stdout",
          "text": [
            "   L   M   S\n",
            "            \n",
            " 198 326  83\n"
          ]
        }
      ]
    },
    {
      "cell_type": "markdown",
      "source": [
        "La variable _company_size_ indica el tamaño de la empresa donde el trabajador recibe el sueldo. Los niveles son de acuerdo a la cantidad de gente de la empresa:\n",
        "\n",
        "* S: menos de 50 empleados\n",
        "* M: entre 50 y 250 empleados\n",
        "* L: más de 250 empleados"
      ],
      "metadata": {
        "id": "wXIZv6BRefhD"
      }
    },
    {
      "cell_type": "code",
      "source": [
        "%%R\n",
        "\n",
        "porcentaje <- round(table(DT$company_size) / sum(table(DT$company_size)) * 100)\n",
        "etiqueta <- paste(c('pequeña', 'mediana', 'grande'), porcentaje, '%')\n",
        "pie(ftable(DT$company_size),\n",
        "    labels = etiqueta,\n",
        "    col = rainbow(length(etiqueta)),\n",
        "    main = 'Tamaño de la empresa donde se desempeña\\ el trabajador en ciencia de datos entre 2020 y 2021'\n",
        ")"
      ],
      "metadata": {
        "colab": {
          "base_uri": "https://localhost:8080/",
          "height": 497
        },
        "outputId": "3a4d6570-f819-45fe-da6d-957138073a63",
        "id": "mhPRfBHXf5_c"
      },
      "execution_count": 35,
      "outputs": [
        {
          "output_type": "display_data",
          "data": {
            "image/png": "[encoded data removed]"
          },
          "metadata": {}
        }
      ]
    },
    {
      "cell_type": "markdown",
      "source": [
        "\n",
        "\n",
        "---\n",
        "\n"
      ],
      "metadata": {
        "id": "WoUuAmwry2fT"
      }
    },
    {
      "cell_type": "code",
      "source": [
        "%%R\n",
        "\n"
      ],
      "metadata": {
        "id": "WMXErjqvgjfJ"
      },
      "execution_count": null,
      "outputs": []
    },
    {
      "cell_type": "code",
      "source": [
        "%%R\n",
        "\n",
        "DT[, .(promedio = mean(salary_in_usd)), by = experience_level]"
      ],
      "metadata": {
        "colab": {
          "base_uri": "https://localhost:8080/"
        },
        "id": "fnzRBw29diVe",
        "outputId": "3f9a52bc-b261-4f7e-a991-1e599dccd82f"
      },
      "execution_count": 128,
      "outputs": [
        {
          "output_type": "stream",
          "name": "stdout",
          "text": [
            "   experience_level  promedio\n",
            "1:               MI  64000.00\n",
            "2:               SE  70000.00\n",
            "3:               EN  57920.75\n",
            "4:               EX 103743.50\n"
          ]
        }
      ]
    },
    {
      "cell_type": "code",
      "source": [
        "%%R\n",
        "\n",
        "DT[, .('moda' = moda(salary_in_usd)), by = experience_level]"
      ],
      "metadata": {
        "colab": {
          "base_uri": "https://localhost:8080/"
        },
        "id": "iidlPCnHjIyx",
        "outputId": "428454a7-8de3-4f5c-c1e5-181e041d8992"
      },
      "execution_count": null,
      "outputs": [
        {
          "output_type": "stream",
          "name": "stdout",
          "text": [
            "   experience_level   moda\n",
            "1:               MI  66022\n",
            "2:               SE  99000\n",
            "3:               EN  31875\n",
            "4:               EX 325000\n"
          ]
        }
      ]
    },
    {
      "cell_type": "code",
      "source": [
        "%%R\n",
        "\n",
        "DT[, .(media = median(salary_in_usd)), by = work_year]"
      ],
      "metadata": {
        "colab": {
          "base_uri": "https://localhost:8080/"
        },
        "id": "Ybudcz0ug59u",
        "outputId": "c90e1c61-4f06-4645-8afe-ef29cf2159f7"
      },
      "execution_count": 133,
      "outputs": [
        {
          "output_type": "stream",
          "name": "stdout",
          "text": [
            "   work_year  media\n",
            "1:    ad2022  81000\n",
            "2:    2022ec 120000\n"
          ]
        }
      ]
    },
    {
      "cell_type": "code",
      "source": [
        "%%R\n",
        "\n",
        "plot(DT[, salary_in_usd, by = experience_level], outline = F)"
      ],
      "metadata": {
        "colab": {
          "base_uri": "https://localhost:8080/",
          "height": 497
        },
        "id": "HjSiJg0DcfwW",
        "outputId": "7bedd4e4-acb6-46b0-e800-0a4b3cbd6400"
      },
      "execution_count": null,
      "outputs": [
        {
          "output_type": "display_data",
          "data": {
            "image/png": "[encoded data removed]"
          },
          "metadata": {}
        }
      ]
    },
    {
      "cell_type": "code",
      "source": [
        "%%R\n",
        "\n",
        "DT_raw[, lapply(.SD, table), .SDcols = 9:10])"
      ],
      "metadata": {
        "id": "dPwyLFdSUSLo"
      },
      "execution_count": null,
      "outputs": []
    },
    {
      "cell_type": "markdown",
      "source": [
        "\n"
      ],
      "metadata": {
        "id": "nLKtCQIXR3_O"
      }
    },
    {
      "cell_type": "code",
      "source": [
        "%%R\n",
        "\n",
        "plot(DT[, salary_in_usd, by = work_year])"
      ],
      "metadata": {
        "colab": {
          "base_uri": "https://localhost:8080/",
          "height": 497
        },
        "outputId": "a9721e9b-5088-4333-d922-489c59b73287",
        "id": "ihUK07f3Wyiv"
      },
      "execution_count": 50,
      "outputs": [
        {
          "output_type": "display_data",
          "data": {
            "image/png": "[encoded data removed]"
          },
          "metadata": {}
        }
      ]
    },
    {
      "cell_type": "code",
      "source": [
        "%%R\n",
        "\n",
        "levels(DT$experience_level)"
      ],
      "metadata": {
        "colab": {
          "base_uri": "https://localhost:8080/"
        },
        "id": "OiFjhuKnznfd",
        "outputId": "c4b51522-7912-40bc-a3d9-7287570c1e7e"
      },
      "execution_count": 13,
      "outputs": [
        {
          "output_type": "stream",
          "name": "stdout",
          "text": [
            "[1] \"EN\" \"EX\" \"MI\" \"SE\"\n"
          ]
        }
      ]
    },
    {
      "cell_type": "code",
      "source": [
        "%%R\n",
        "\n",
        "colors <- numeric(4)\n",
        "colors[experience_level == 'EN'] <- 'green'\n",
        "colors[experience_level == 'MI'] <- 'orange'\n",
        "colors[experience_level == 'SE'] <- 'blue'\n",
        "colors[experience_level == 'EX'] <- 'red'"
      ],
      "metadata": {
        "id": "giIJLf0iu9Jb"
      },
      "execution_count": null,
      "outputs": []
    },
    {
      "cell_type": "code",
      "source": [
        "%%R\n",
        "\n",
        "layout(matrix(c(1,2), byrow = TRUE))\n",
        "\n",
        "Xad <- DT[ work_year == 'ad2022', salary_in_usd]\n",
        "Xec <- DT[ work_year == '2022ec', salary_in_usd]\n",
        "x <- seq(min(DT$salary_in_usd), max(DT$salary_in_usd))\n",
        "\n",
        "par(mar = c(2,2,3,2))\n",
        "hist(Xad,\n",
        "     prob = TRUE,\n",
        "     breaks = round(sqrt(nrow(DT))),\n",
        "     main = 'antes de 2022'\n",
        ")\n",
        "fad <- dnorm(x, mean = mean(Xad), sd = sd(Xad))\n",
        "lines(x, fad, col = 'red', lwd = 2)\n",
        "\n",
        "par(mar = c(2,2,2,2))\n",
        "hist(Xec,\n",
        "     prob = TRUE,\n",
        "     breaks = round(sqrt(nrow(DT))),\n",
        "     main = '2022 en curso'\n",
        ")\n",
        "fec <- dnorm(x, mean = mean(Xec), sd = sd(Xec))\n",
        "lines(x, fec, col = 'red', lwd = 2)\n"
      ],
      "metadata": {
        "colab": {
          "base_uri": "https://localhost:8080/",
          "height": 497
        },
        "id": "rtNgVSQ1Isch",
        "outputId": "2894db1c-bdae-4d32-b375-b92175170416"
      },
      "execution_count": 80,
      "outputs": [
        {
          "output_type": "display_data",
          "data": {
            "image/png": "[encoded data removed]"
          },
          "metadata": {}
        }
      ]
    },
    {
      "cell_type": "markdown",
      "source": [
        " ---  \n",
        " Calculo de outliers multivariados (clase12, 40min)\n",
        " ---"
      ],
      "metadata": {
        "id": "Lz3CW-qglkzu"
      }
    },
    {
      "cell_type": "code",
      "source": [
        "%%R\n",
        "\n",
        "install.packages('MASS', quiet = TRUE)\n",
        "install.packages('lattice', quiet = TRUE)\n",
        "install.packages('grid', quiet = TRUE)\n",
        "install.packages('DMwR2', quiet = TRUE)\n",
        "library('MASS', quiet = TRUE)\n",
        "library('lattice', quiet = TRUE)\n",
        "library('grid', quiet = TRUE)\n",
        "library('DMwR2', quiet = TRUE)"
      ],
      "metadata": {
        "id": "XWc8NEt0lsRv"
      },
      "execution_count": null,
      "outputs": []
    },
    {
      "cell_type": "code",
      "source": [
        "%%R\n",
        "\n",
        "salarioWY <- DT[, .(salary, salary_in_usd)]"
      ],
      "metadata": {
        "id": "pHCJYaTMmk_z"
      },
      "execution_count": 152,
      "outputs": []
    },
    {
      "cell_type": "code",
      "source": [
        "%%R\n",
        "\n",
        "cov1 <- cov.rob(salarioWY, method = 'mcd', nsamp = 'exact')"
      ],
      "metadata": {
        "colab": {
          "base_uri": "https://localhost:8080/"
        },
        "id": "sfTznUwAn7GE",
        "outputId": "ab36d22c-c170-4151-eaa8-7e28e856734e"
      },
      "execution_count": null,
      "outputs": [
        {
          "output_type": "stream",
          "name": "stderr",
          "text": [
            "From cffi callback <function _processevents at 0x7fc55fc96170>:\n",
            "Traceback (most recent call last):\n",
            "  File \"/usr/local/lib/python3.7/dist-packages/rpy2/rinterface_lib/callbacks.py\", line 274, in _processevents\n",
            "    @ffi_proxy.callback(ffi_proxy._processevents_def,\n",
            "KeyboardInterrupt\n",
            "From cffi callback <function _processevents at 0x7fc55fc96170>:\n",
            "Traceback (most recent call last):\n",
            "  File \"/usr/local/lib/python3.7/dist-packages/rpy2/rinterface_lib/callbacks.py\", line 274, in _processevents\n",
            "    @ffi_proxy.callback(ffi_proxy._processevents_def,\n",
            "KeyboardInterrupt\n"
          ]
        }
      ]
    },
    {
      "cell_type": "code",
      "source": [
        "%%R\n",
        "\n",
        "center1 <- apply(salarioWY, 2, mean)\n",
        "center2 <- apply(salarioWY, 2, median)"
      ],
      "metadata": {
        "colab": {
          "base_uri": "https://localhost:8080/",
          "height": 642
        },
        "id": "nOi8daxFp0Me",
        "outputId": "f6b32873-c4ed-4c88-c5f6-462fba9e40c5"
      },
      "execution_count": 151,
      "outputs": [
        {
          "output_type": "stream",
          "name": "stderr",
          "text": [
            "WARNING:rpy2.rinterface_lib.callbacks:R[write to console]: Error in apply(salarioWY[, salary_in_usd], 2, mean) : \n",
            "  dim(X) must have a positive length\n",
            "\n"
          ]
        },
        {
          "output_type": "stream",
          "name": "stdout",
          "text": [
            "\n",
            "Error in apply(salarioWY[, salary_in_usd], 2, mean) : \n",
            "  dim(X) must have a positive length\n"
          ]
        },
        {
          "output_type": "error",
          "ename": "RInterpreterError",
          "evalue": "ignored",
          "traceback": [
            "\u001b[0;31m---------------------------------------------------------------------------\u001b[0m",
            "\u001b[0;31mRRuntimeError\u001b[0m                             Traceback (most recent call last)",
            "\u001b[0;32m/usr/local/lib/python3.7/dist-packages/rpy2/ipython/rmagic.py\u001b[0m in \u001b[0;36meval\u001b[0;34m(self, code)\u001b[0m\n\u001b[1;32m    267\u001b[0m                 \u001b[0;31m# Need the newline in case the last line in code is a comment.\u001b[0m\u001b[0;34m\u001b[0m\u001b[0;34m\u001b[0m\u001b[0;34m\u001b[0m\u001b[0m\n\u001b[0;32m--> 268\u001b[0;31m                 \u001b[0mvalue\u001b[0m\u001b[0;34m,\u001b[0m \u001b[0mvisible\u001b[0m \u001b[0;34m=\u001b[0m \u001b[0mro\u001b[0m\u001b[0;34m.\u001b[0m\u001b[0mr\u001b[0m\u001b[0;34m(\u001b[0m\u001b[0;34m\"withVisible({%s\\n})\"\u001b[0m \u001b[0;34m%\u001b[0m \u001b[0mcode\u001b[0m\u001b[0;34m)\u001b[0m\u001b[0;34m\u001b[0m\u001b[0;34m\u001b[0m\u001b[0m\n\u001b[0m\u001b[1;32m    269\u001b[0m             \u001b[0;32mexcept\u001b[0m \u001b[0;34m(\u001b[0m\u001b[0mri\u001b[0m\u001b[0;34m.\u001b[0m\u001b[0membedded\u001b[0m\u001b[0;34m.\u001b[0m\u001b[0mRRuntimeError\u001b[0m\u001b[0;34m,\u001b[0m \u001b[0mValueError\u001b[0m\u001b[0;34m)\u001b[0m \u001b[0;32mas\u001b[0m \u001b[0mexception\u001b[0m\u001b[0;34m:\u001b[0m\u001b[0;34m\u001b[0m\u001b[0;34m\u001b[0m\u001b[0m\n",
            "\u001b[0;32m/usr/local/lib/python3.7/dist-packages/rpy2/robjects/__init__.py\u001b[0m in \u001b[0;36m__call__\u001b[0;34m(self, string)\u001b[0m\n\u001b[1;32m    437\u001b[0m         \u001b[0mp\u001b[0m \u001b[0;34m=\u001b[0m \u001b[0mrinterface\u001b[0m\u001b[0;34m.\u001b[0m\u001b[0mparse\u001b[0m\u001b[0;34m(\u001b[0m\u001b[0mstring\u001b[0m\u001b[0;34m)\u001b[0m\u001b[0;34m\u001b[0m\u001b[0;34m\u001b[0m\u001b[0m\n\u001b[0;32m--> 438\u001b[0;31m         \u001b[0mres\u001b[0m \u001b[0;34m=\u001b[0m \u001b[0mself\u001b[0m\u001b[0;34m.\u001b[0m\u001b[0meval\u001b[0m\u001b[0;34m(\u001b[0m\u001b[0mp\u001b[0m\u001b[0;34m)\u001b[0m\u001b[0;34m\u001b[0m\u001b[0;34m\u001b[0m\u001b[0m\n\u001b[0m\u001b[1;32m    439\u001b[0m         \u001b[0;32mreturn\u001b[0m \u001b[0mconversion\u001b[0m\u001b[0;34m.\u001b[0m\u001b[0mrpy2py\u001b[0m\u001b[0;34m(\u001b[0m\u001b[0mres\u001b[0m\u001b[0;34m)\u001b[0m\u001b[0;34m\u001b[0m\u001b[0;34m\u001b[0m\u001b[0m\n",
            "\u001b[0;32m/usr/local/lib/python3.7/dist-packages/rpy2/robjects/functions.py\u001b[0m in \u001b[0;36m__call__\u001b[0;34m(self, *args, **kwargs)\u001b[0m\n\u001b[1;32m    198\u001b[0m         return (super(SignatureTranslatedFunction, self)\n\u001b[0;32m--> 199\u001b[0;31m                 .__call__(*args, **kwargs))\n\u001b[0m\u001b[1;32m    200\u001b[0m \u001b[0;34m\u001b[0m\u001b[0m\n",
            "\u001b[0;32m/usr/local/lib/python3.7/dist-packages/rpy2/robjects/functions.py\u001b[0m in \u001b[0;36m__call__\u001b[0;34m(self, *args, **kwargs)\u001b[0m\n\u001b[1;32m    124\u001b[0m                 \u001b[0mnew_kwargs\u001b[0m\u001b[0;34m[\u001b[0m\u001b[0mk\u001b[0m\u001b[0;34m]\u001b[0m \u001b[0;34m=\u001b[0m \u001b[0mconversion\u001b[0m\u001b[0;34m.\u001b[0m\u001b[0mpy2rpy\u001b[0m\u001b[0;34m(\u001b[0m\u001b[0mv\u001b[0m\u001b[0;34m)\u001b[0m\u001b[0;34m\u001b[0m\u001b[0;34m\u001b[0m\u001b[0m\n\u001b[0;32m--> 125\u001b[0;31m         \u001b[0mres\u001b[0m \u001b[0;34m=\u001b[0m \u001b[0msuper\u001b[0m\u001b[0;34m(\u001b[0m\u001b[0mFunction\u001b[0m\u001b[0;34m,\u001b[0m \u001b[0mself\u001b[0m\u001b[0;34m)\u001b[0m\u001b[0;34m.\u001b[0m\u001b[0m__call__\u001b[0m\u001b[0;34m(\u001b[0m\u001b[0;34m*\u001b[0m\u001b[0mnew_args\u001b[0m\u001b[0;34m,\u001b[0m \u001b[0;34m**\u001b[0m\u001b[0mnew_kwargs\u001b[0m\u001b[0;34m)\u001b[0m\u001b[0;34m\u001b[0m\u001b[0;34m\u001b[0m\u001b[0m\n\u001b[0m\u001b[1;32m    126\u001b[0m         \u001b[0mres\u001b[0m \u001b[0;34m=\u001b[0m \u001b[0mconversion\u001b[0m\u001b[0;34m.\u001b[0m\u001b[0mrpy2py\u001b[0m\u001b[0;34m(\u001b[0m\u001b[0mres\u001b[0m\u001b[0;34m)\u001b[0m\u001b[0;34m\u001b[0m\u001b[0;34m\u001b[0m\u001b[0m\n",
            "\u001b[0;32m/usr/local/lib/python3.7/dist-packages/rpy2/rinterface_lib/conversion.py\u001b[0m in \u001b[0;36m_\u001b[0;34m(*args, **kwargs)\u001b[0m\n\u001b[1;32m     44\u001b[0m     \u001b[0;32mdef\u001b[0m \u001b[0m_\u001b[0m\u001b[0;34m(\u001b[0m\u001b[0;34m*\u001b[0m\u001b[0margs\u001b[0m\u001b[0;34m,\u001b[0m \u001b[0;34m**\u001b[0m\u001b[0mkwargs\u001b[0m\u001b[0;34m)\u001b[0m\u001b[0;34m:\u001b[0m\u001b[0;34m\u001b[0m\u001b[0;34m\u001b[0m\u001b[0m\n\u001b[0;32m---> 45\u001b[0;31m         \u001b[0mcdata\u001b[0m \u001b[0;34m=\u001b[0m \u001b[0mfunction\u001b[0m\u001b[0;34m(\u001b[0m\u001b[0;34m*\u001b[0m\u001b[0margs\u001b[0m\u001b[0;34m,\u001b[0m \u001b[0;34m**\u001b[0m\u001b[0mkwargs\u001b[0m\u001b[0;34m)\u001b[0m\u001b[0;34m\u001b[0m\u001b[0;34m\u001b[0m\u001b[0m\n\u001b[0m\u001b[1;32m     46\u001b[0m         \u001b[0;31m# TODO: test cdata is of the expected CType\u001b[0m\u001b[0;34m\u001b[0m\u001b[0;34m\u001b[0m\u001b[0;34m\u001b[0m\u001b[0m\n",
            "\u001b[0;32m/usr/local/lib/python3.7/dist-packages/rpy2/rinterface.py\u001b[0m in \u001b[0;36m__call__\u001b[0;34m(self, *args, **kwargs)\u001b[0m\n\u001b[1;32m    679\u001b[0m             \u001b[0;32mif\u001b[0m \u001b[0merror_occured\u001b[0m\u001b[0;34m[\u001b[0m\u001b[0;36m0\u001b[0m\u001b[0;34m]\u001b[0m\u001b[0;34m:\u001b[0m\u001b[0;34m\u001b[0m\u001b[0;34m\u001b[0m\u001b[0m\n\u001b[0;32m--> 680\u001b[0;31m                 \u001b[0;32mraise\u001b[0m \u001b[0membedded\u001b[0m\u001b[0;34m.\u001b[0m\u001b[0mRRuntimeError\u001b[0m\u001b[0;34m(\u001b[0m\u001b[0m_rinterface\u001b[0m\u001b[0;34m.\u001b[0m\u001b[0m_geterrmessage\u001b[0m\u001b[0;34m(\u001b[0m\u001b[0;34m)\u001b[0m\u001b[0;34m)\u001b[0m\u001b[0;34m\u001b[0m\u001b[0;34m\u001b[0m\u001b[0m\n\u001b[0m\u001b[1;32m    681\u001b[0m         \u001b[0;32mreturn\u001b[0m \u001b[0mres\u001b[0m\u001b[0;34m\u001b[0m\u001b[0;34m\u001b[0m\u001b[0m\n",
            "\u001b[0;31mRRuntimeError\u001b[0m: Error in apply(salarioWY[, salary_in_usd], 2, mean) : \n  dim(X) must have a positive length\n",
            "\nDuring handling of the above exception, another exception occurred:\n",
            "\u001b[0;31mRInterpreterError\u001b[0m                         Traceback (most recent call last)",
            "\u001b[0;32m<ipython-input-151-457dd9e02bd7>\u001b[0m in \u001b[0;36m<module>\u001b[0;34m()\u001b[0m\n\u001b[0;32m----> 1\u001b[0;31m \u001b[0mget_ipython\u001b[0m\u001b[0;34m(\u001b[0m\u001b[0;34m)\u001b[0m\u001b[0;34m.\u001b[0m\u001b[0mrun_cell_magic\u001b[0m\u001b[0;34m(\u001b[0m\u001b[0;34m'R'\u001b[0m\u001b[0;34m,\u001b[0m \u001b[0;34m''\u001b[0m\u001b[0;34m,\u001b[0m \u001b[0;34m'\\ncenter1 <- apply(salarioWY[, salary_in_usd], 2, mean)\\ncenter2 <- apply(salarioWY[, salary_in_usd], 2, median)'\u001b[0m\u001b[0;34m)\u001b[0m\u001b[0;34m\u001b[0m\u001b[0;34m\u001b[0m\u001b[0m\n\u001b[0m",
            "\u001b[0;32m/usr/local/lib/python3.7/dist-packages/IPython/core/interactiveshell.py\u001b[0m in \u001b[0;36mrun_cell_magic\u001b[0;34m(self, magic_name, line, cell)\u001b[0m\n\u001b[1;32m   2115\u001b[0m             \u001b[0mmagic_arg_s\u001b[0m \u001b[0;34m=\u001b[0m \u001b[0mself\u001b[0m\u001b[0;34m.\u001b[0m\u001b[0mvar_expand\u001b[0m\u001b[0;34m(\u001b[0m\u001b[0mline\u001b[0m\u001b[0;34m,\u001b[0m \u001b[0mstack_depth\u001b[0m\u001b[0;34m)\u001b[0m\u001b[0;34m\u001b[0m\u001b[0;34m\u001b[0m\u001b[0m\n\u001b[1;32m   2116\u001b[0m             \u001b[0;32mwith\u001b[0m \u001b[0mself\u001b[0m\u001b[0;34m.\u001b[0m\u001b[0mbuiltin_trap\u001b[0m\u001b[0;34m:\u001b[0m\u001b[0;34m\u001b[0m\u001b[0;34m\u001b[0m\u001b[0m\n\u001b[0;32m-> 2117\u001b[0;31m                 \u001b[0mresult\u001b[0m \u001b[0;34m=\u001b[0m \u001b[0mfn\u001b[0m\u001b[0;34m(\u001b[0m\u001b[0mmagic_arg_s\u001b[0m\u001b[0;34m,\u001b[0m \u001b[0mcell\u001b[0m\u001b[0;34m)\u001b[0m\u001b[0;34m\u001b[0m\u001b[0;34m\u001b[0m\u001b[0m\n\u001b[0m\u001b[1;32m   2118\u001b[0m             \u001b[0;32mreturn\u001b[0m \u001b[0mresult\u001b[0m\u001b[0;34m\u001b[0m\u001b[0;34m\u001b[0m\u001b[0m\n\u001b[1;32m   2119\u001b[0m \u001b[0;34m\u001b[0m\u001b[0m\n",
            "\u001b[0;32m<decorator-gen-119>\u001b[0m in \u001b[0;36mR\u001b[0;34m(self, line, cell, local_ns)\u001b[0m\n",
            "\u001b[0;32m/usr/local/lib/python3.7/dist-packages/IPython/core/magic.py\u001b[0m in \u001b[0;36m<lambda>\u001b[0;34m(f, *a, **k)\u001b[0m\n\u001b[1;32m    186\u001b[0m     \u001b[0;31m# but it's overkill for just that one bit of state.\u001b[0m\u001b[0;34m\u001b[0m\u001b[0;34m\u001b[0m\u001b[0;34m\u001b[0m\u001b[0m\n\u001b[1;32m    187\u001b[0m     \u001b[0;32mdef\u001b[0m \u001b[0mmagic_deco\u001b[0m\u001b[0;34m(\u001b[0m\u001b[0marg\u001b[0m\u001b[0;34m)\u001b[0m\u001b[0;34m:\u001b[0m\u001b[0;34m\u001b[0m\u001b[0;34m\u001b[0m\u001b[0m\n\u001b[0;32m--> 188\u001b[0;31m         \u001b[0mcall\u001b[0m \u001b[0;34m=\u001b[0m \u001b[0;32mlambda\u001b[0m \u001b[0mf\u001b[0m\u001b[0;34m,\u001b[0m \u001b[0;34m*\u001b[0m\u001b[0ma\u001b[0m\u001b[0;34m,\u001b[0m \u001b[0;34m**\u001b[0m\u001b[0mk\u001b[0m\u001b[0;34m:\u001b[0m \u001b[0mf\u001b[0m\u001b[0;34m(\u001b[0m\u001b[0;34m*\u001b[0m\u001b[0ma\u001b[0m\u001b[0;34m,\u001b[0m \u001b[0;34m**\u001b[0m\u001b[0mk\u001b[0m\u001b[0;34m)\u001b[0m\u001b[0;34m\u001b[0m\u001b[0;34m\u001b[0m\u001b[0m\n\u001b[0m\u001b[1;32m    189\u001b[0m \u001b[0;34m\u001b[0m\u001b[0m\n\u001b[1;32m    190\u001b[0m         \u001b[0;32mif\u001b[0m \u001b[0mcallable\u001b[0m\u001b[0;34m(\u001b[0m\u001b[0marg\u001b[0m\u001b[0;34m)\u001b[0m\u001b[0;34m:\u001b[0m\u001b[0;34m\u001b[0m\u001b[0;34m\u001b[0m\u001b[0m\n",
            "\u001b[0;32m/usr/local/lib/python3.7/dist-packages/rpy2/ipython/rmagic.py\u001b[0m in \u001b[0;36mR\u001b[0;34m(self, line, cell, local_ns)\u001b[0m\n\u001b[1;32m    781\u001b[0m             \u001b[0;32mif\u001b[0m \u001b[0;32mnot\u001b[0m \u001b[0me\u001b[0m\u001b[0;34m.\u001b[0m\u001b[0mstdout\u001b[0m\u001b[0;34m.\u001b[0m\u001b[0mendswith\u001b[0m\u001b[0;34m(\u001b[0m\u001b[0me\u001b[0m\u001b[0;34m.\u001b[0m\u001b[0merr\u001b[0m\u001b[0;34m)\u001b[0m\u001b[0;34m:\u001b[0m\u001b[0;34m\u001b[0m\u001b[0;34m\u001b[0m\u001b[0m\n\u001b[1;32m    782\u001b[0m                 \u001b[0mprint\u001b[0m\u001b[0;34m(\u001b[0m\u001b[0me\u001b[0m\u001b[0;34m.\u001b[0m\u001b[0merr\u001b[0m\u001b[0;34m)\u001b[0m\u001b[0;34m\u001b[0m\u001b[0;34m\u001b[0m\u001b[0m\n\u001b[0;32m--> 783\u001b[0;31m             \u001b[0;32mraise\u001b[0m \u001b[0me\u001b[0m\u001b[0;34m\u001b[0m\u001b[0;34m\u001b[0m\u001b[0m\n\u001b[0m\u001b[1;32m    784\u001b[0m         \u001b[0;32mfinally\u001b[0m\u001b[0;34m:\u001b[0m\u001b[0;34m\u001b[0m\u001b[0;34m\u001b[0m\u001b[0m\n\u001b[1;32m    785\u001b[0m             \u001b[0;32mif\u001b[0m \u001b[0mself\u001b[0m\u001b[0;34m.\u001b[0m\u001b[0mdevice\u001b[0m \u001b[0;32min\u001b[0m \u001b[0;34m[\u001b[0m\u001b[0;34m'png'\u001b[0m\u001b[0;34m,\u001b[0m \u001b[0;34m'svg'\u001b[0m\u001b[0;34m]\u001b[0m\u001b[0;34m:\u001b[0m\u001b[0;34m\u001b[0m\u001b[0;34m\u001b[0m\u001b[0m\n",
            "\u001b[0;32m/usr/local/lib/python3.7/dist-packages/rpy2/ipython/rmagic.py\u001b[0m in \u001b[0;36mR\u001b[0;34m(self, line, cell, local_ns)\u001b[0m\n\u001b[1;32m    761\u001b[0m                     \u001b[0mreturn_output\u001b[0m \u001b[0;34m=\u001b[0m \u001b[0;32mFalse\u001b[0m\u001b[0;34m\u001b[0m\u001b[0;34m\u001b[0m\u001b[0m\n\u001b[1;32m    762\u001b[0m             \u001b[0;32melse\u001b[0m\u001b[0;34m:\u001b[0m\u001b[0;34m\u001b[0m\u001b[0;34m\u001b[0m\u001b[0m\n\u001b[0;32m--> 763\u001b[0;31m                 \u001b[0mtext_result\u001b[0m\u001b[0;34m,\u001b[0m \u001b[0mresult\u001b[0m\u001b[0;34m,\u001b[0m \u001b[0mvisible\u001b[0m \u001b[0;34m=\u001b[0m \u001b[0mself\u001b[0m\u001b[0;34m.\u001b[0m\u001b[0meval\u001b[0m\u001b[0;34m(\u001b[0m\u001b[0mcode\u001b[0m\u001b[0;34m)\u001b[0m\u001b[0;34m\u001b[0m\u001b[0;34m\u001b[0m\u001b[0m\n\u001b[0m\u001b[1;32m    764\u001b[0m                 \u001b[0mtext_output\u001b[0m \u001b[0;34m+=\u001b[0m \u001b[0mtext_result\u001b[0m\u001b[0;34m\u001b[0m\u001b[0;34m\u001b[0m\u001b[0m\n\u001b[1;32m    765\u001b[0m                 \u001b[0;32mif\u001b[0m \u001b[0mvisible\u001b[0m\u001b[0;34m:\u001b[0m\u001b[0;34m\u001b[0m\u001b[0;34m\u001b[0m\u001b[0m\n",
            "\u001b[0;32m/usr/local/lib/python3.7/dist-packages/rpy2/ipython/rmagic.py\u001b[0m in \u001b[0;36meval\u001b[0;34m(self, code)\u001b[0m\n\u001b[1;32m    271\u001b[0m                 \u001b[0mwarning_or_other_msg\u001b[0m \u001b[0;34m=\u001b[0m \u001b[0mself\u001b[0m\u001b[0;34m.\u001b[0m\u001b[0mflush\u001b[0m\u001b[0;34m(\u001b[0m\u001b[0;34m)\u001b[0m\u001b[0;34m\u001b[0m\u001b[0;34m\u001b[0m\u001b[0m\n\u001b[1;32m    272\u001b[0m                 raise RInterpreterError(code, str(exception),\n\u001b[0;32m--> 273\u001b[0;31m                                         warning_or_other_msg)\n\u001b[0m\u001b[1;32m    274\u001b[0m             \u001b[0mtext_output\u001b[0m \u001b[0;34m=\u001b[0m \u001b[0mself\u001b[0m\u001b[0;34m.\u001b[0m\u001b[0mflush\u001b[0m\u001b[0;34m(\u001b[0m\u001b[0;34m)\u001b[0m\u001b[0;34m\u001b[0m\u001b[0;34m\u001b[0m\u001b[0m\n\u001b[1;32m    275\u001b[0m             \u001b[0;32mreturn\u001b[0m \u001b[0mtext_output\u001b[0m\u001b[0;34m,\u001b[0m \u001b[0mvalue\u001b[0m\u001b[0;34m,\u001b[0m \u001b[0mvisible\u001b[0m\u001b[0;34m[\u001b[0m\u001b[0;36m0\u001b[0m\u001b[0;34m]\u001b[0m\u001b[0;34m\u001b[0m\u001b[0;34m\u001b[0m\u001b[0m\n",
            "\u001b[0;31mRInterpreterError\u001b[0m: Failed to parse and evaluate line '\\ncenter1 <- apply(salarioWY[, salary_in_usd], 2, mean)\\ncenter2 <- apply(salarioWY[, salary_in_usd], 2, median)'.\nR error message: 'Error in apply(salarioWY[, salary_in_usd], 2, mean) : \\n  dim(X) must have a positive length'"
          ]
        }
      ]
    }
  ]
}